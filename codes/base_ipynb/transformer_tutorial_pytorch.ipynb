{
 "cells": [
  {
   "cell_type": "code",
   "execution_count": 24,
   "metadata": {},
   "outputs": [],
   "source": [
    "import math\n",
    "from typing import Tuple\n",
    "from transformers import BertTokenizer, BertModel\n",
    "import numpy as np\n",
    "import torch\n",
    "from torch import nn, Tensor\n",
    "from torch.utils.data import dataset"
   ]
  },
  {
   "cell_type": "code",
   "execution_count": 25,
   "metadata": {},
   "outputs": [],
   "source": [
    "device = torch.device('cpu')#'cuda' if torch.cuda.is_available() else 'cpu')"
   ]
  },
  {
   "cell_type": "code",
   "execution_count": 26,
   "metadata": {},
   "outputs": [],
   "source": [
    "class BERTSentenceEncoder:\n",
    "    def __init__(self, model_name='bert-base-uncased'):\n",
    "        self.tokenizer = BertTokenizer.from_pretrained(model_name)\n",
    "        self.model = BertModel.from_pretrained(model_name)\n",
    "\n",
    "    def encode_sentences(self, input_sentences):\n",
    "        tokenized_input = self.tokenizer(input_sentences, return_tensors='pt', padding=True, truncation=True)\n",
    "        with torch.no_grad():\n",
    "            outputs = self.model(**tokenized_input)\n",
    "        encoded_sentences = outputs.last_hidden_state\n",
    "\n",
    "        # take only the CLS mode\n",
    "        context_vector = encoded_sentences[:, 0,:]\n",
    "        return tokenized_input, encoded_sentences, context_vector"
   ]
  },
  {
   "cell_type": "code",
   "execution_count": 41,
   "metadata": {},
   "outputs": [
    {
     "name": "stdout",
     "output_type": "stream",
     "text": [
      "Output shape: torch.Size([10, 1, 101])\n"
     ]
    }
   ],
   "source": [
    "# Define a simple model using PyTorch's TransformerDecoder\n",
    "class SimpleTransformerDecoderModel(nn.Module):\n",
    "    def __init__(self, vocab_size, d_model, nhead, num_layers, dim_feedforward):\n",
    "        super(SimpleTransformerDecoderModel, self).__init__()\n",
    "        self.embedding = nn.Embedding(vocab_size, d_model)\n",
    "        self.pos_encoder = PositionalEncoding(d_model)\n",
    "        self.transformer_decoder = nn.TransformerDecoder(\n",
    "            nn.TransformerDecoderLayer(d_model, nhead, dim_feedforward), \n",
    "            num_layers\n",
    "        )\n",
    "        self.fc_out = nn.Linear(d_model, vocab_size)\n",
    "\n",
    "    def forward(self, tgt, memory):\n",
    "        tgt = self.embedding(tgt) * np.sqrt(d_model)\n",
    "        tgt = self.pos_encoder(tgt)\n",
    "        output = self.transformer_decoder(tgt, memory)\n",
    "        output = self.fc_out(output)\n",
    "        return output\n",
    "\n",
    "class PositionalEncoding(nn.Module):\n",
    "    def __init__(self, d_model, max_len=5000):\n",
    "        super(PositionalEncoding, self).__init__()\n",
    "        self.encoding = torch.zeros(max_len, d_model)\n",
    "        position = torch.arange(0, max_len, dtype=torch.float).unsqueeze(1)\n",
    "        div_term = torch.exp(torch.arange(0, d_model, 2).float() * (-np.log(10000.0) / d_model))\n",
    "        self.encoding[:, 0::2] = torch.sin(position * div_term)\n",
    "        self.encoding[:, 1::2] = torch.cos(position * div_term)\n",
    "        self.encoding = self.encoding.unsqueeze(0).transpose(0, 1)\n",
    "\n",
    "    def forward(self, x):\n",
    "        return x + self.encoding[:x.size(0), :]\n",
    "\n",
    "# Parameters\n",
    "vocab_size = 101  # For integers 0-100\n",
    "d_model = 128  # smaller d_model for simplicity\n",
    "nhead = 4  # ensure d_model is divisible by nhead\n",
    "num_layers = 3\n",
    "dim_feedforward = 512\n",
    "\n",
    "# Model\n",
    "model = SimpleTransformerDecoderModel(vocab_size, d_model, nhead, num_layers, dim_feedforward)\n",
    "\n",
    "# Example input\n",
    "tgt_seq = torch.tensor([[1, 2, 3, 4, 5, 6, 7, 8, 9, 10]]).T  # Transpose for correct shape\n",
    "memory = torch.rand(10, 1, d_model)  # Random memory, in practice comes from the encoder\n",
    "\n",
    "# Forward pass\n",
    "output = model(tgt_seq, memory)\n",
    "print(\"Output shape:\", output.shape)  # [sequence length, batch size, vocab size]"
   ]
  },
  {
   "cell_type": "code",
   "execution_count": 35,
   "metadata": {},
   "outputs": [
    {
     "name": "stdout",
     "output_type": "stream",
     "text": [
      "torch.Size([2, 10, 768])\n"
     ]
    }
   ],
   "source": [
    "bert_encoder = BERTSentenceEncoder()\n",
    "\n",
    "input_sentences = [\"Your first sentence\", \"Your second sentence . This at the test\"]\n",
    "\n",
    "tokenized_input, encoded_sentences, context_vector = bert_encoder.encode_sentences(input_sentences)\n",
    "\n",
    "print(encoded_sentences.shape)"
   ]
  },
  {
   "cell_type": "code",
   "execution_count": 36,
   "metadata": {},
   "outputs": [
    {
     "name": "stdout",
     "output_type": "stream",
     "text": [
      "torch.Size([2, 10, 768])\n",
      "{'input_ids': tensor([[ 101, 2115, 2034, 6251,  102,    0,    0,    0,    0,    0],\n",
      "        [ 101, 2115, 2117, 6251, 1012, 2023, 2012, 1996, 3231,  102]]), 'token_type_ids': tensor([[0, 0, 0, 0, 0, 0, 0, 0, 0, 0],\n",
      "        [0, 0, 0, 0, 0, 0, 0, 0, 0, 0]]), 'attention_mask': tensor([[1, 1, 1, 1, 1, 0, 0, 0, 0, 0],\n",
      "        [1, 1, 1, 1, 1, 1, 1, 1, 1, 1]])}\n",
      "torch.Size([2, 768])\n"
     ]
    }
   ],
   "source": [
    "print(encoded_sentences.shape)\n",
    "print(tokenized_input)\n",
    "print(context_vector.shape)\n",
    "#tokenized_input, encoded_sentences, context_vector"
   ]
  },
  {
   "cell_type": "code",
   "execution_count": 37,
   "metadata": {},
   "outputs": [],
   "source": [
    "import torch\n",
    "import torch.nn as nn\n",
    "import torch.optim as optim\n",
    "\n",
    "# Sample data\n",
    "input_sequence = encoded_sentences#torch.randint(0, 100, (10,))  # Input sequence of length 10 with token IDs from 0 to 99\n",
    "target_sequence = torch.randint(0, 110, (10,))  # Target sequence of length 10 with token IDs from 0 to 109\n",
    "\n",
    "# Parameters\n",
    "target_vocab_size = 101  # For integers 0-100\n",
    "d_model = 128  # smaller d_model for simplicity\n",
    "nhead = 4  # ensure d_model is divisible by nhead\n",
    "num_layers = 3\n",
    "dim_feedforward = 512\n",
    "\n",
    "\n",
    "# Instantiate the model\n",
    "model = TransformerDecoder(target_vocab_size, d_model, nhead, num_layers, dim_feedforward)\n"
   ]
  },
  {
   "cell_type": "code",
   "execution_count": 38,
   "metadata": {},
   "outputs": [
    {
     "ename": "TypeError",
     "evalue": "TransformerDecoder.forward() missing 1 required positional argument: 'memory'",
     "output_type": "error",
     "traceback": [
      "\u001b[0;31m---------------------------------------------------------------------------\u001b[0m",
      "\u001b[0;31mTypeError\u001b[0m                                 Traceback (most recent call last)",
      "\u001b[1;32m/speech/dbwork/mul/spielwiese4/students/desengus/codes/base_ipynb/transformer_tutorial_pytorch.ipynb Cell 8\u001b[0m line \u001b[0;36m3\n\u001b[1;32m      <a href='vscode-notebook-cell://ssh-remote%2Bdestc0strapp15/speech/dbwork/mul/spielwiese4/students/desengus/codes/base_ipynb/transformer_tutorial_pytorch.ipynb#X15sdnNjb2RlLXJlbW90ZQ%3D%3D?line=0'>1</a>\u001b[0m \u001b[39m# Get BERT encoder output\u001b[39;00m\n\u001b[1;32m      <a href='vscode-notebook-cell://ssh-remote%2Bdestc0strapp15/speech/dbwork/mul/spielwiese4/students/desengus/codes/base_ipynb/transformer_tutorial_pytorch.ipynb#X15sdnNjb2RlLXJlbW90ZQ%3D%3D?line=1'>2</a>\u001b[0m \u001b[39mwith\u001b[39;00m torch\u001b[39m.\u001b[39mno_grad():\n\u001b[0;32m----> <a href='vscode-notebook-cell://ssh-remote%2Bdestc0strapp15/speech/dbwork/mul/spielwiese4/students/desengus/codes/base_ipynb/transformer_tutorial_pytorch.ipynb#X15sdnNjb2RlLXJlbW90ZQ%3D%3D?line=2'>3</a>\u001b[0m     bert_output \u001b[39m=\u001b[39m model(input_sequence\u001b[39m.\u001b[39;49munsqueeze(\u001b[39m0\u001b[39;49m))[\u001b[39m0\u001b[39m]\n\u001b[1;32m      <a href='vscode-notebook-cell://ssh-remote%2Bdestc0strapp15/speech/dbwork/mul/spielwiese4/students/desengus/codes/base_ipynb/transformer_tutorial_pytorch.ipynb#X15sdnNjb2RlLXJlbW90ZQ%3D%3D?line=4'>5</a>\u001b[0m \u001b[39m# Generate output during inference\u001b[39;00m\n\u001b[1;32m      <a href='vscode-notebook-cell://ssh-remote%2Bdestc0strapp15/speech/dbwork/mul/spielwiese4/students/desengus/codes/base_ipynb/transformer_tutorial_pytorch.ipynb#X15sdnNjb2RlLXJlbW90ZQ%3D%3D?line=5'>6</a>\u001b[0m output_sequence \u001b[39m=\u001b[39m model\u001b[39m.\u001b[39minference(input_sequences, bert_output)\n",
      "File \u001b[0;32m/speech/dbwork/mul/spielwiese4/students/desengus/miniconda3/envs/dev/lib/python3.10/site-packages/torch/nn/modules/module.py:1518\u001b[0m, in \u001b[0;36mModule._wrapped_call_impl\u001b[0;34m(self, *args, **kwargs)\u001b[0m\n\u001b[1;32m   1516\u001b[0m     \u001b[39mreturn\u001b[39;00m \u001b[39mself\u001b[39m\u001b[39m.\u001b[39m_compiled_call_impl(\u001b[39m*\u001b[39margs, \u001b[39m*\u001b[39m\u001b[39m*\u001b[39mkwargs)  \u001b[39m# type: ignore[misc]\u001b[39;00m\n\u001b[1;32m   1517\u001b[0m \u001b[39melse\u001b[39;00m:\n\u001b[0;32m-> 1518\u001b[0m     \u001b[39mreturn\u001b[39;00m \u001b[39mself\u001b[39;49m\u001b[39m.\u001b[39;49m_call_impl(\u001b[39m*\u001b[39;49margs, \u001b[39m*\u001b[39;49m\u001b[39m*\u001b[39;49mkwargs)\n",
      "File \u001b[0;32m/speech/dbwork/mul/spielwiese4/students/desengus/miniconda3/envs/dev/lib/python3.10/site-packages/torch/nn/modules/module.py:1527\u001b[0m, in \u001b[0;36mModule._call_impl\u001b[0;34m(self, *args, **kwargs)\u001b[0m\n\u001b[1;32m   1522\u001b[0m \u001b[39m# If we don't have any hooks, we want to skip the rest of the logic in\u001b[39;00m\n\u001b[1;32m   1523\u001b[0m \u001b[39m# this function, and just call forward.\u001b[39;00m\n\u001b[1;32m   1524\u001b[0m \u001b[39mif\u001b[39;00m \u001b[39mnot\u001b[39;00m (\u001b[39mself\u001b[39m\u001b[39m.\u001b[39m_backward_hooks \u001b[39mor\u001b[39;00m \u001b[39mself\u001b[39m\u001b[39m.\u001b[39m_backward_pre_hooks \u001b[39mor\u001b[39;00m \u001b[39mself\u001b[39m\u001b[39m.\u001b[39m_forward_hooks \u001b[39mor\u001b[39;00m \u001b[39mself\u001b[39m\u001b[39m.\u001b[39m_forward_pre_hooks\n\u001b[1;32m   1525\u001b[0m         \u001b[39mor\u001b[39;00m _global_backward_pre_hooks \u001b[39mor\u001b[39;00m _global_backward_hooks\n\u001b[1;32m   1526\u001b[0m         \u001b[39mor\u001b[39;00m _global_forward_hooks \u001b[39mor\u001b[39;00m _global_forward_pre_hooks):\n\u001b[0;32m-> 1527\u001b[0m     \u001b[39mreturn\u001b[39;00m forward_call(\u001b[39m*\u001b[39;49margs, \u001b[39m*\u001b[39;49m\u001b[39m*\u001b[39;49mkwargs)\n\u001b[1;32m   1529\u001b[0m \u001b[39mtry\u001b[39;00m:\n\u001b[1;32m   1530\u001b[0m     result \u001b[39m=\u001b[39m \u001b[39mNone\u001b[39;00m\n",
      "\u001b[0;31mTypeError\u001b[0m: TransformerDecoder.forward() missing 1 required positional argument: 'memory'"
     ]
    }
   ],
   "source": [
    "# Get BERT encoder output\n",
    "with torch.no_grad():\n",
    "    bert_output = model(input_sequence.unsqueeze(0))[0]\n",
    "\n",
    "# Generate output during inference\n",
    "output_sequence = model.inference(input_sequences, bert_output)\n",
    "\n",
    "print(\"Input Text:\", input_text)\n",
    "print(\"Output Sequence:\", output_sequence)"
   ]
  },
  {
   "cell_type": "code",
   "execution_count": null,
   "metadata": {},
   "outputs": [],
   "source": []
  }
 ],
 "metadata": {
  "kernelspec": {
   "display_name": "dev",
   "language": "python",
   "name": "python3"
  },
  "language_info": {
   "codemirror_mode": {
    "name": "ipython",
    "version": 3
   },
   "file_extension": ".py",
   "mimetype": "text/x-python",
   "name": "python",
   "nbconvert_exporter": "python",
   "pygments_lexer": "ipython3",
   "version": "3.10.13"
  }
 },
 "nbformat": 4,
 "nbformat_minor": 2
}
