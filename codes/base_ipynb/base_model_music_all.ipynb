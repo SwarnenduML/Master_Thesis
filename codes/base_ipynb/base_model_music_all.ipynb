{
 "cells": [
  {
   "cell_type": "code",
   "execution_count": 1,
   "metadata": {},
   "outputs": [
    {
     "name": "stderr",
     "output_type": "stream",
     "text": [
      "/speech/dbwork/mul/spielwiese4/students/desengus/miniconda3/envs/dev/lib/python3.10/site-packages/tqdm/auto.py:21: TqdmWarning: IProgress not found. Please update jupyter and ipywidgets. See https://ipywidgets.readthedocs.io/en/stable/user_install.html\n",
      "  from .autonotebook import tqdm as notebook_tqdm\n"
     ]
    }
   ],
   "source": [
    "import os\n",
    "from transformers import BertTokenizer, BertModel, AdamW\n",
    "import pandas as pd\n",
    "from torch.utils.data import Dataset, DataLoader\n",
    "import torch.optim as optim\n",
    "import torch\n",
    "\n",
    "device = torch.device(\"cpu\")#(\"cuda\" if torch.cuda.is_available() else \"cpu\")\n"
   ]
  },
  {
   "cell_type": "code",
   "execution_count": 2,
   "metadata": {},
   "outputs": [],
   "source": [
    "import torch\n",
    "import torch.nn as nn\n",
    "import numpy as np\n",
    "\n",
    "# Define a simple model using PyTorch's TransformerDecoder\n",
    "class SimpleTransformerDecoderModel(nn.Module):\n",
    "    def __init__(self, vocab_size, d_model, nhead, num_layers, dim_feedforward, batch_size=32):\n",
    "        super(SimpleTransformerDecoderModel, self).__init__()\n",
    "        self.embedding = nn.Embedding(vocab_size, d_model)\n",
    "        self.pos_encoder = PositionalEncoding(d_model)\n",
    "        self.transformer_decoder = nn.TransformerDecoder(\n",
    "            nn.TransformerDecoderLayer(d_model, nhead, dim_feedforward, batch_first=True), \n",
    "            num_layers)\n",
    "        self.fc_out = nn.Linear(d_model, vocab_size)\n",
    "        self.d_model = d_model\n",
    "        self.batch_size = batch_size\n",
    "\n",
    "\n",
    "    def forward(self, tgt, memory, train = True):\n",
    "        self.training = train\n",
    "        # print(type(tgt))\n",
    "        # print(type(self.d_model))\n",
    "        # Assume tgt shape: (batch_size, sequence_length)\n",
    "        # tgt = self.embedding(tgt.to(torch.int)) * np.sqrt(self.d_model.to(torch.int))\n",
    "        tgt = self.embedding(tgt) * np.sqrt(self.d_model)\n",
    "        tgt = self.pos_encoder(tgt)\n",
    "        output = self.transformer_decoder(tgt, memory)\n",
    "        output = self.fc_out(output)\n",
    "        # During training, return the output for loss computation\n",
    "        if self.training:\n",
    "            return output\n",
    "        else:\n",
    "            # During inference, return probabilities using softmax\n",
    "            return torch.nn.functional.softmax(output, dim=-1)\n",
    "\n",
    "class PositionalEncoding(nn.Module):\n",
    "    def __init__(self, d_model, max_len=5000):\n",
    "        super(PositionalEncoding, self).__init__()\n",
    "        self.encoding = torch.zeros(max_len, d_model)\n",
    "        position = torch.arange(0, max_len, dtype=torch.float).unsqueeze(1)\n",
    "        div_term = torch.exp(torch.arange(0, d_model, 2).float() * (-np.log(10000.0) / d_model))\n",
    "        self.encoding[:, 0::2] = torch.sin(position * div_term)\n",
    "        self.encoding[:, 1::2] = torch.cos(position * div_term)\n",
    "        # self.encoding = self.encoding.unsqueeze(0).transpose(0, 1)\n",
    "\n",
    "    def forward(self, x):\n",
    "        # Assume x shape: (batch_size, sequence_length, d_model)\n",
    "        batch_size, sequence_length, _ = x.size()\n",
    "        encoding = self.encoding[:sequence_length, :].unsqueeze(0).expand(batch_size, -1, -1)\n",
    "        return x + encoding\n"
   ]
  },
  {
   "cell_type": "code",
   "execution_count": 3,
   "metadata": {},
   "outputs": [],
   "source": [
    "class BERTSentenceEncoder:\n",
    "    def __init__(self, model_name='bert-base-uncased'):\n",
    "        self.tokenizer = BertTokenizer.from_pretrained(model_name)\n",
    "        self.model = BertModel.from_pretrained(model_name)\n",
    "\n",
    "    def encode_sentences(self, input_sentences, atn_mask):\n",
    "        # tokenized_input = self.tokenizer(input_sentences, return_tensors='pt', padding=True, truncation=True)\n",
    "        with torch.no_grad():\n",
    "            outputs = self.model(input_sentences, attention_mask = atn_mask)\n",
    "        encoded_sentences = outputs.last_hidden_state\n",
    "\n",
    "        # take only the CLS mode\n",
    "        context_vector = encoded_sentences[:, 0,:]\n",
    "        return encoded_sentences, context_vector"
   ]
  },
  {
   "cell_type": "code",
   "execution_count": 4,
   "metadata": {},
   "outputs": [],
   "source": [
    "note_mapping = {'0': 1, 'C0': 2, 'C0#': 3, 'D0': 4, 'D0#': 5, 'E0': 6, 'F0': 7, 'F0#': 8, 'G0': 9, 'G0#': 10, 'A0': 11, 'A0#': 12, 'B0': 13,\n",
    "                'C1': 14, 'C1#': 15, 'D1': 16, 'D1#': 17, 'E1': 18, 'F1': 19, 'F1#': 20, 'G1': 21, 'G1#': 22, 'A1': 23, 'A1#': 24, 'B1': 25,\n",
    "                'C2': 26, 'C2#': 27, 'D2': 28, 'D2#': 29, 'E2': 30, 'F2': 31, 'F2#': 32, 'G2': 33, 'G2#': 34, 'A2': 35, 'A2#': 36, 'B2': 37,\n",
    "                'C3': 38, 'C3#': 39, 'D3': 40, 'D3#': 41, 'E3': 42, 'F3': 43, 'F3#': 44, 'G3': 45, 'G3#': 46, 'A3': 47, 'A3#': 48, 'B3': 49,\n",
    "                'C4': 50, 'C4#': 51, 'D4': 52, 'D4#': 53, 'E4': 54, 'F4': 55, 'F4#': 56, 'G4': 57, 'G4#': 58, 'A4': 59, 'A4#': 60, 'B4': 61,\n",
    "                'C5': 62, 'C5#': 63, 'D5': 64, 'D5#': 65, 'E5': 66, 'F5': 67, 'F5#': 68, 'G5': 69, 'G5#': 70, 'A5': 71, 'A5#': 72, 'B5': 73,\n",
    "                'C6': 74, 'C6#': 75, 'D6': 76, 'D6#': 77, 'E6': 78, 'F6': 79, 'F6#': 80, 'G6': 81, 'G6#': 82, 'A6': 83, 'A6#': 84, 'B6': 85,\n",
    "                'C7': 86, 'C7#': 87, 'D7': 88, 'D7#': 89, 'E7': 90, 'F7': 91, 'F7#': 92, 'G7': 93, 'G7#': 94, 'A7': 95, 'A7#': 96, 'B7': 97,\n",
    "                'C8': 98, 'C8#': 99, 'D8': 100, 'D8#': 101, 'E8': 102, 'F8': 103, 'F8#': 104, 'G8': 105, 'G8#': 106, 'A8': 107, 'A8#': 108, 'B8': 109,'-1':100 }\n",
    "reverse_note_mapping = {v: k for k, v in note_mapping.items()}"
   ]
  },
  {
   "cell_type": "code",
   "execution_count": 5,
   "metadata": {},
   "outputs": [],
   "source": [
    "# create a function to read all the data in a given folder\n",
    "def read_all_files(folder_path):\n",
    "    if not os.path.exists(folder_path):\n",
    "        raise Exception(\"Folder doesnot exist\")\n",
    "    \n",
    "    # Get a list of all Excel files in the folder\n",
    "    excel_files = [file for file in os.listdir(folder_path) if file.endswith('.xlsx') or file.endswith('.xls')]\n",
    "\n",
    "    # Initialize an empty DataFrame to store the combined data\n",
    "    combined_df = pd.DataFrame()\n",
    "\n",
    "    # Loop through each Excel file and read it into a DataFrame\n",
    "    for file in excel_files:\n",
    "        # Assuming that all sheets in each Excel file need to be concatenated\n",
    "        xls = pd.ExcelFile(os.path.join(folder_path, file))\n",
    "        sheet_names = xls.sheet_names\n",
    "        for sheet_name in sheet_names:\n",
    "            df = pd.read_excel(xls, sheet_name)\n",
    "            combined_df = pd.concat([combined_df, df], ignore_index=True)\n",
    "    if combined_df.columns[0]=='Unnamed: 0':\n",
    "        combined_df = combined_df.drop('Unnamed: 0', axis=1)\n",
    "    \n",
    "    for c in combined_df.columns:\n",
    "        combined_df[c] = combined_df[c].replace('',' ', regex=True)\n",
    "\n",
    "    training_words = combined_df['words']\n",
    "    training_words = [sentence.replace(';', ' ') for sentence in training_words]\n",
    "    training_words[0] = '<BOS> ' + training_words[0]\n",
    "    training_words[-1] = training_words[-1] + ' <EOS>'\n",
    "    training_labels = [[note_mapping[note] for note in d.split(' ; ')] for d in combined_df['mean_note_crepe']]\n",
    "\n",
    "    return training_labels,training_words"
   ]
  },
  {
   "cell_type": "code",
   "execution_count": 6,
   "metadata": {},
   "outputs": [],
   "source": [
    "training_labels,training_words = read_all_files(\"/speech/dbwork/mul/spielwiese4/students/desengus/dry_crepe_pesto/excels/train_orig/\")"
   ]
  },
  {
   "cell_type": "code",
   "execution_count": 7,
   "metadata": {},
   "outputs": [],
   "source": [
    "model_name = 'bert-base-uncased'\n",
    "max_length = 200\n",
    "tokenizer = BertTokenizer.from_pretrained(model_name)\n",
    "model = BertModel.from_pretrained(model_name)"
   ]
  },
  {
   "cell_type": "code",
   "execution_count": 8,
   "metadata": {},
   "outputs": [],
   "source": [
    "for item_no,i in enumerate(training_labels):\n",
    "    # print((training_labels[item_no]))\n",
    "    # print(type((training_labels[item_no])))\n",
    "    if len(i)<max_length:\n",
    "        if len(training_labels[item_no]) < max_length:\n",
    "            training_labels[item_no].extend([100] * (max_length - len(training_labels[item_no]))) # adding EOS or -1 to end of song"
   ]
  },
  {
   "cell_type": "code",
   "execution_count": 9,
   "metadata": {},
   "outputs": [],
   "source": [
    "df = pd.DataFrame({'word':training_words, 'label':training_labels})"
   ]
  },
  {
   "cell_type": "code",
   "execution_count": 10,
   "metadata": {},
   "outputs": [],
   "source": [
    "# Define a custom dataset class\n",
    "class CustomDataset(Dataset):\n",
    "    def __init__(self, dataframe, tokenizer, max_length=64, train=True):\n",
    "        self.data = dataframe\n",
    "        self.tokenizer = tokenizer\n",
    "        self.max_length = max_length\n",
    "        self.train = train\n",
    "\n",
    "    def __len__(self):\n",
    "        return len(self.data)\n",
    "\n",
    "    def __getitem__(self, idx):\n",
    "        sentence = self.data.iloc[idx]['word']\n",
    "        if self.train == True:\n",
    "            label = torch.tensor(self.data.iloc[idx]['label'], dtype=torch.long)\n",
    "\n",
    "        # Tokenize the sentence\n",
    "        inputs = self.tokenizer(sentence, return_tensors='pt', max_length=self.max_length, truncation=True, padding='max_length')\n",
    "\n",
    "        if self.train == True:\n",
    "            return {\n",
    "                'input_ids': inputs['input_ids'].squeeze(),\n",
    "                'attention_mask': inputs['attention_mask'].squeeze(),\n",
    "                'label': label\n",
    "            }\n",
    "        else:\n",
    "            return {\n",
    "                'input_ids': inputs['input_ids'].squeeze(),\n",
    "                'attention_mask': inputs['attention_mask'].squeeze()\n",
    "            }\n"
   ]
  },
  {
   "cell_type": "code",
   "execution_count": 11,
   "metadata": {},
   "outputs": [],
   "source": [
    "sample_text = ['hello, its me. I love you for thee','i love you for a thousand years. I love you for a thousand more.']\n",
    "input_text = ['I laugh, sometimes cry, do both and don\\'t  know why Touching it all And that\\'s just the way things are You me could give a whirl, but I\\'m wanting you, boy, an emotional girl.',\n",
    "                'girl. I\\'m an emotional girl I can\\'t help myself Sometimes laugh,']\n",
    "val_text = sample_text+input_text\n"
   ]
  },
  {
   "cell_type": "code",
   "execution_count": 12,
   "metadata": {},
   "outputs": [],
   "source": [
    "train_ds = CustomDataset(df, tokenizer, max_length)\n"
   ]
  },
  {
   "cell_type": "code",
   "execution_count": 13,
   "metadata": {},
   "outputs": [],
   "source": [
    "# Batch size\n",
    "batch_size = 2\n",
    "\n",
    "# Create data loaders\n",
    "train_loader = DataLoader(train_ds, batch_size=batch_size, shuffle=True)\n"
   ]
  },
  {
   "cell_type": "code",
   "execution_count": 14,
   "metadata": {},
   "outputs": [
    {
     "name": "stderr",
     "output_type": "stream",
     "text": [
      "/speech/dbwork/mul/spielwiese4/students/desengus/miniconda3/envs/dev/lib/python3.10/site-packages/transformers/optimization.py:411: FutureWarning: This implementation of AdamW is deprecated and will be removed in a future version. Use the PyTorch implementation torch.optim.AdamW instead, or set `no_deprecation_warning=True` to disable this warning\n",
      "  warnings.warn(\n"
     ]
    }
   ],
   "source": [
    "# Parameters\n",
    "vocab_size = len(note_mapping)  # As there are 108 notes, 1 silence\n",
    "d_model = 768  # has to be the BERT encoder output size\n",
    "nhead = 8  # ensure d_model is divisible by nhead\n",
    "num_layers = 64\n",
    "dim_feedforward = 768\n",
    "\n",
    "# Model\n",
    "encoder = BERTSentenceEncoder()\n",
    "decoder = SimpleTransformerDecoderModel(vocab_size, d_model, nhead, num_layers, dim_feedforward).to(device)\n",
    "\n",
    "# Set up optimizer and loss function\n",
    "optimizer = AdamW(decoder.parameters(), lr=1e-5)\n",
    "criterion = torch.nn.CrossEntropyLoss()\n"
   ]
  },
  {
   "cell_type": "code",
   "execution_count": 15,
   "metadata": {},
   "outputs": [
    {
     "data": {
      "text/plain": [
       "device(type='cpu')"
      ]
     },
     "execution_count": 15,
     "metadata": {},
     "output_type": "execute_result"
    }
   ],
   "source": [
    "next(decoder.parameters()).device"
   ]
  },
  {
   "cell_type": "code",
   "execution_count": 16,
   "metadata": {},
   "outputs": [],
   "source": [
    "MAX_SEQ_LENGTH = 200"
   ]
  },
  {
   "cell_type": "code",
   "execution_count": 17,
   "metadata": {},
   "outputs": [],
   "source": [
    "# decoder.parameters"
   ]
  },
  {
   "cell_type": "code",
   "execution_count": 18,
   "metadata": {},
   "outputs": [],
   "source": [
    "# image_df = pd.DataFrame(columns=['images','text'])\n",
    "# image_df['text'] = val_text"
   ]
  },
  {
   "cell_type": "code",
   "execution_count": 19,
   "metadata": {},
   "outputs": [],
   "source": [
    "num_epochs = 2\n",
    "cal_per_epoch = 1\n",
    "# img_batch = [np.zeros((int(num_epochs/cal_per_epoch),3,len(note_mapping),MAX_SEQ_LENGTH+1))]\n",
    "# image_df['images'] = [img_batch[0]] * len(image_df)"
   ]
  },
  {
   "cell_type": "code",
   "execution_count": 20,
   "metadata": {},
   "outputs": [
    {
     "ename": "KeyboardInterrupt",
     "evalue": "",
     "output_type": "error",
     "traceback": [
      "\u001b[0;31m---------------------------------------------------------------------------\u001b[0m",
      "\u001b[0;31mKeyboardInterrupt\u001b[0m                         Traceback (most recent call last)",
      "\u001b[1;32m/speech/dbwork/mul/spielwiese4/students/desengus/codes/base_ipynb/base_model_music_all.ipynb Cell 20\u001b[0m line \u001b[0;36m3\n\u001b[1;32m     <a href='vscode-notebook-cell://ssh-remote%2Bdestc0strapp15/speech/dbwork/mul/spielwiese4/students/desengus/codes/base_ipynb/base_model_music_all.ipynb#X25sdnNjb2RlLXJlbW90ZQ%3D%3D?line=26'>27</a>\u001b[0m loss \u001b[39m=\u001b[39m criterion(predictions, targets)\n\u001b[1;32m     <a href='vscode-notebook-cell://ssh-remote%2Bdestc0strapp15/speech/dbwork/mul/spielwiese4/students/desengus/codes/base_ipynb/base_model_music_all.ipynb#X25sdnNjb2RlLXJlbW90ZQ%3D%3D?line=28'>29</a>\u001b[0m \u001b[39m#print(\"Categorical CrossEntropy Loss:\", loss.item())\u001b[39;00m\n\u001b[1;32m     <a href='vscode-notebook-cell://ssh-remote%2Bdestc0strapp15/speech/dbwork/mul/spielwiese4/students/desengus/codes/base_ipynb/base_model_music_all.ipynb#X25sdnNjb2RlLXJlbW90ZQ%3D%3D?line=29'>30</a>\u001b[0m \n\u001b[1;32m     <a href='vscode-notebook-cell://ssh-remote%2Bdestc0strapp15/speech/dbwork/mul/spielwiese4/students/desengus/codes/base_ipynb/base_model_music_all.ipynb#X25sdnNjb2RlLXJlbW90ZQ%3D%3D?line=30'>31</a>\u001b[0m \u001b[39m# Backward pass and optimization\u001b[39;00m\n\u001b[0;32m---> <a href='vscode-notebook-cell://ssh-remote%2Bdestc0strapp15/speech/dbwork/mul/spielwiese4/students/desengus/codes/base_ipynb/base_model_music_all.ipynb#X25sdnNjb2RlLXJlbW90ZQ%3D%3D?line=31'>32</a>\u001b[0m loss\u001b[39m.\u001b[39;49mbackward()\n\u001b[1;32m     <a href='vscode-notebook-cell://ssh-remote%2Bdestc0strapp15/speech/dbwork/mul/spielwiese4/students/desengus/codes/base_ipynb/base_model_music_all.ipynb#X25sdnNjb2RlLXJlbW90ZQ%3D%3D?line=32'>33</a>\u001b[0m optimizer\u001b[39m.\u001b[39mstep()\n\u001b[1;32m     <a href='vscode-notebook-cell://ssh-remote%2Bdestc0strapp15/speech/dbwork/mul/spielwiese4/students/desengus/codes/base_ipynb/base_model_music_all.ipynb#X25sdnNjb2RlLXJlbW90ZQ%3D%3D?line=34'>35</a>\u001b[0m total_loss \u001b[39m+\u001b[39m\u001b[39m=\u001b[39m loss\u001b[39m.\u001b[39mitem()\n",
      "File \u001b[0;32m/speech/dbwork/mul/spielwiese4/students/desengus/miniconda3/envs/dev/lib/python3.10/site-packages/torch/_tensor.py:492\u001b[0m, in \u001b[0;36mTensor.backward\u001b[0;34m(self, gradient, retain_graph, create_graph, inputs)\u001b[0m\n\u001b[1;32m    482\u001b[0m \u001b[39mif\u001b[39;00m has_torch_function_unary(\u001b[39mself\u001b[39m):\n\u001b[1;32m    483\u001b[0m     \u001b[39mreturn\u001b[39;00m handle_torch_function(\n\u001b[1;32m    484\u001b[0m         Tensor\u001b[39m.\u001b[39mbackward,\n\u001b[1;32m    485\u001b[0m         (\u001b[39mself\u001b[39m,),\n\u001b[0;32m   (...)\u001b[0m\n\u001b[1;32m    490\u001b[0m         inputs\u001b[39m=\u001b[39minputs,\n\u001b[1;32m    491\u001b[0m     )\n\u001b[0;32m--> 492\u001b[0m torch\u001b[39m.\u001b[39;49mautograd\u001b[39m.\u001b[39;49mbackward(\n\u001b[1;32m    493\u001b[0m     \u001b[39mself\u001b[39;49m, gradient, retain_graph, create_graph, inputs\u001b[39m=\u001b[39;49minputs\n\u001b[1;32m    494\u001b[0m )\n",
      "File \u001b[0;32m/speech/dbwork/mul/spielwiese4/students/desengus/miniconda3/envs/dev/lib/python3.10/site-packages/torch/autograd/__init__.py:251\u001b[0m, in \u001b[0;36mbackward\u001b[0;34m(tensors, grad_tensors, retain_graph, create_graph, grad_variables, inputs)\u001b[0m\n\u001b[1;32m    246\u001b[0m     retain_graph \u001b[39m=\u001b[39m create_graph\n\u001b[1;32m    248\u001b[0m \u001b[39m# The reason we repeat the same comment below is that\u001b[39;00m\n\u001b[1;32m    249\u001b[0m \u001b[39m# some Python versions print out the first line of a multi-line function\u001b[39;00m\n\u001b[1;32m    250\u001b[0m \u001b[39m# calls in the traceback and some print out the last line\u001b[39;00m\n\u001b[0;32m--> 251\u001b[0m Variable\u001b[39m.\u001b[39;49m_execution_engine\u001b[39m.\u001b[39;49mrun_backward(  \u001b[39m# Calls into the C++ engine to run the backward pass\u001b[39;49;00m\n\u001b[1;32m    252\u001b[0m     tensors,\n\u001b[1;32m    253\u001b[0m     grad_tensors_,\n\u001b[1;32m    254\u001b[0m     retain_graph,\n\u001b[1;32m    255\u001b[0m     create_graph,\n\u001b[1;32m    256\u001b[0m     inputs,\n\u001b[1;32m    257\u001b[0m     allow_unreachable\u001b[39m=\u001b[39;49m\u001b[39mTrue\u001b[39;49;00m,\n\u001b[1;32m    258\u001b[0m     accumulate_grad\u001b[39m=\u001b[39;49m\u001b[39mTrue\u001b[39;49;00m,\n\u001b[1;32m    259\u001b[0m )\n",
      "\u001b[0;31mKeyboardInterrupt\u001b[0m: "
     ]
    }
   ],
   "source": [
    "# writer = SummaryWriter(log_dir='logs')\n",
    "for epoch in range(num_epochs):\n",
    "\n",
    "    decoder.train()\n",
    "    total_loss = 0\n",
    "\n",
    "    for batch in train_loader:\n",
    "        encoded, melody, attention_mask = batch['input_ids'], batch['label'],batch['attention_mask']\n",
    "        # print(type(encoded))\n",
    "        # print(type(melody))\n",
    "        # print(type(attention_mask))\n",
    "        encoded, _ = encoder.encode_sentences(encoded, attention_mask)\n",
    "        # Zero the gradients\n",
    "        optimizer.zero_grad()\n",
    "\n",
    "        # Forward pass\n",
    "        outputs = decoder(melody, encoded)\n",
    "\n",
    "        # Reshape predictions to match the shape of targets\n",
    "        predictions = outputs.view(-1, vocab_size)\n",
    "        targets = melody.view(-1)\n",
    "\n",
    "        # Define the CrossEntropyLoss criterion\n",
    "        criterion = nn.CrossEntropyLoss()\n",
    "\n",
    "        # Compute the loss\n",
    "        loss = criterion(predictions, targets)\n",
    "\n",
    "        #print(\"Categorical CrossEntropy Loss:\", loss.item())\n",
    "\n",
    "        # Backward pass and optimization\n",
    "        loss.backward()\n",
    "        optimizer.step()\n",
    "\n",
    "        total_loss += loss.item()\n",
    "\n",
    "    average_loss = total_loss / len(train_loader)\n",
    "    print(f\"Epoch {epoch + 1}/{num_epochs}, Average Loss: {average_loss}\")\n",
    "    \n",
    "\n",
    "    decoder.eval()  # Set the model to evaluation mode\n",
    "    val_loss = 0\n",
    "\n",
    "    if epoch % cal_per_epoch == 0:\n",
    "        with torch.no_grad():\n",
    "            for i,val_txt in enumerate(val_text):\n",
    "                val_batch = tokenizer(val_txt, return_tensors='pt', max_length=max_length, truncation=True, padding='max_length')\n",
    "                val_encoded, val_attention_mask = val_batch['input_ids'], val_batch['attention_mask']\n",
    "\n",
    "                # Encode sentences\n",
    "                val_encoded, _ = encoder.encode_sentences(val_encoded, val_attention_mask)\n",
    "\n",
    "                # Initialize the starting token for the decoder input\n",
    "                start_token = torch.tensor([[1]], dtype=torch.long)\n",
    "\n",
    "                # Store the predicted sequence for each example in the batch\n",
    "                batch_predictions = []\n",
    "\n",
    "                # Iterate over the maximum sequence length or a predefined maximum length\n",
    "                for step in range(MAX_SEQ_LENGTH):\n",
    "                    #print(\"Input Size:\", val_encoded.size())\n",
    "                    # Predict the next token\n",
    "                    with torch.no_grad():\n",
    "                        output = decoder(start_token, val_encoded)\n",
    "                    \n",
    "                    # Get the predicted token (greedy decoding)\n",
    "                    pred_token = output.argmax(2)[:, -1].unsqueeze(1)\n",
    "                    \n",
    "                    # Append the predicted token to the output sequence\n",
    "                    start_token = torch.cat((start_token, pred_token), dim=1)\n",
    "                    \n",
    "                \n",
    "                # Add the batch predictions to the overall predictions list\n",
    "                print(val_txt)\n",
    "                print(start_token)\n",
    "\n",
    "                # img_tensor = start_token.numpy()[0]\n",
    "                # image_df['images'][i][epoch//cal_per_epoch,0] = img_tensor\n",
    "                # image_df['images'][i][epoch//cal_per_epoch,1] = img_tensor\n",
    "        print(f\"Epoch {epoch + 1}/{num_epochs}, Validation done\")\n",
    "        torch.save(decoder.state_dict(), '/speech/dbwork/mul/spielwiese4/students/desengus/codes/main_python_scripts/checkpoints/epoch'+str(epoch))\n",
    "\n",
    "    \n",
    "    \n",
    " \n"
   ]
  },
  {
   "cell_type": "code",
   "execution_count": null,
   "metadata": {},
   "outputs": [],
   "source": []
  }
 ],
 "metadata": {
  "kernelspec": {
   "display_name": "dev",
   "language": "python",
   "name": "python3"
  },
  "language_info": {
   "codemirror_mode": {
    "name": "ipython",
    "version": 3
   },
   "file_extension": ".py",
   "mimetype": "text/x-python",
   "name": "python",
   "nbconvert_exporter": "python",
   "pygments_lexer": "ipython3",
   "version": "3.10.13"
  }
 },
 "nbformat": 4,
 "nbformat_minor": 2
}
