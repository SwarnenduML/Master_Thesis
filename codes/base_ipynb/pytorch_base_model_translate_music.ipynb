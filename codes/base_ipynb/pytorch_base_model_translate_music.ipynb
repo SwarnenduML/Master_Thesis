{
 "cells": [
  {
   "cell_type": "code",
   "execution_count": 1,
   "metadata": {},
   "outputs": [],
   "source": [
    "from __future__ import unicode_literals, print_function, division\n",
    "from io import open\n",
    "import unicodedata\n",
    "import re\n",
    "import random\n",
    "import os\n",
    "import torch\n",
    "import torch.nn as nn\n",
    "from torch import optim\n",
    "import torch.nn.functional as F\n",
    "import pandas as pd\n",
    "import numpy as np\n",
    "from torch.utils.data import TensorDataset, DataLoader, RandomSampler\n",
    "import time\n",
    "import math\n",
    "\n",
    "device = torch.device(\"cuda\")"
   ]
  },
  {
   "cell_type": "code",
   "execution_count": 2,
   "metadata": {},
   "outputs": [],
   "source": [
    "SOS_token = 0\n",
    "EOS_token = 1\n",
    "\n",
    "class Lang:\n",
    "    def __init__(self, name):\n",
    "        self.name = name\n",
    "        self.word2index = {}\n",
    "        self.word2count = {}\n",
    "        self.index2word = {0: \"SOS\", 1: \"EOS\"}\n",
    "        self.n_words = 2  # Count SOS and EOS\n",
    "\n",
    "    def addSentence(self, sentence):\n",
    "        for word in sentence.split(' '):\n",
    "            self.addWord(word)\n",
    "\n",
    "    def addWord(self, word):\n",
    "        if word not in self.word2index:\n",
    "            self.word2index[word] = self.n_words\n",
    "            self.word2count[word] = 1\n",
    "            self.index2word[self.n_words] = word\n",
    "            self.n_words += 1\n",
    "        else:\n",
    "            self.word2count[word] += 1"
   ]
  },
  {
   "cell_type": "code",
   "execution_count": 3,
   "metadata": {},
   "outputs": [],
   "source": [
    "# Turn a Unicode string to plain ASCII, thanks to\n",
    "# https://stackoverflow.com/a/518232/2809427\n",
    "def unicodeToAscii(s):\n",
    "    return ''.join(\n",
    "        c for c in unicodedata.normalize('NFD', s)\n",
    "        if unicodedata.category(c) != 'Mn'\n",
    "    )\n",
    "\n",
    "# # Lowercase, trim, and remove non-letter characters\n",
    "# def normalizeString(s):\n",
    "#     s = unicodeToAscii(s.lower().strip())\n",
    "#     s = re.sub(r\"([.!?])\", r\" \\1\", s)\n",
    "#     s = re.sub(r\"[^a-zA-Z!?]+\", r\" \", s)\n",
    "#     return s.strip()"
   ]
  },
  {
   "cell_type": "code",
   "execution_count": 4,
   "metadata": {},
   "outputs": [],
   "source": [
    "# create a function to read all the data in a given folder\n",
    "def read_all_files(folder_path):\n",
    "    if not os.path.exists(folder_path):\n",
    "        raise Exception(\"Folder doesnot exist\")\n",
    "    \n",
    "    # Get a list of all Excel files in the folder\n",
    "    excel_files = [file for file in os.listdir(folder_path) if file.endswith('.xlsx') or file.endswith('.xls')]\n",
    "\n",
    "    # Initialize an empty DataFrame to store the combined data\n",
    "    combined_df = pd.DataFrame()\n",
    "\n",
    "    # Loop through each Excel file and read it into a DataFrame\n",
    "    for file in excel_files:\n",
    "        # Assuming that all sheets in each Excel file need to be concatenated\n",
    "        xls = pd.ExcelFile(os.path.join(folder_path, file))\n",
    "        sheet_names = xls.sheet_names\n",
    "        for sheet_name in sheet_names:\n",
    "            df = pd.read_excel(xls, sheet_name)\n",
    "            combined_df = pd.concat([combined_df, df], ignore_index=True)\n",
    "    if combined_df.columns[0]=='Unnamed: 0':\n",
    "        combined_df = combined_df.drop('Unnamed: 0', axis=1)\n",
    "    \n",
    "    for c in combined_df.columns:\n",
    "        combined_df[c] = combined_df[c].replace(' ; ',' ', regex=True)\n",
    "\n",
    "    return combined_df"
   ]
  },
  {
   "cell_type": "code",
   "execution_count": 5,
   "metadata": {},
   "outputs": [],
   "source": [
    "def readLangs():\n",
    "    print(\"Reading data...\")\n",
    "    # Function to join two columns into a list\n",
    "    def join_columns(row):\n",
    "        words_list = row['words'].split()  # Split the string into a list of words\n",
    "        joined_words = ' '.join(words_list)\n",
    "        return [joined_words, row['mean_note_pesto']]\n",
    "\n",
    "    # Apply the function to each row\n",
    "    train_df['Combined'] = train_df.apply(join_columns, axis=1)\n",
    "    pairs = train_df['Combined'].to_list()\n",
    "    input_lang = Lang('input')\n",
    "    for w in train_df['words']:\n",
    "        input_lang.addSentence(str.lower(w))\n",
    "    output_lang = Lang('output')\n",
    "    # defining the outputs\n",
    "    output_classes = ['0','C0','C0#','D0','D0#','E0','F0','F0#','G0','G0#','A0','A0#','B0',\n",
    "                   'C1','C1#','D1','D1#','E1','F1','F1#','G1','G1#','A1','A1#','B1',\n",
    "                   'C2','C2#','D2','D2#','E2','F2','F2#','G2','G2#','A2','A2#','B2',\n",
    "                   'C3','C3#','D3','D3#','E3','F3','F3#','G3','G3#','A3','A3#','B3',\n",
    "                   'C4','C4#','D4','D4#','E4','F4','F4#','G4','G4#','A4','A4#','B4',\n",
    "                   'C5','C5#','D5','D5#','E5','F5','F5#','G5','G5#','A5','A5#','B5',\n",
    "                   'C6','C6#','D6','D6#','E6','F6','F6#','G6','G6#','A6','A6#','B6',\n",
    "                   'C7','C7#','D7','D7#','E7','F7','F7#','G7','G7#','A7','A7#','B7',\n",
    "                   'C8','C8#','D8','D8#','E8','F8','F8#','G8','G8#','A8','A8#','B8']\n",
    "\n",
    "    for o in output_classes:\n",
    "        output_lang.addSentence(o)\n",
    "    \n",
    "\n",
    "    return input_lang, output_lang, pairs"
   ]
  },
  {
   "cell_type": "code",
   "execution_count": 6,
   "metadata": {},
   "outputs": [],
   "source": [
    "train_df = read_all_files('/speech/dbwork/mul/spielwiese4/students/desengus/dry_crepe_pesto/excels/train')\n",
    "test_df = read_all_files('/speech/dbwork/mul/spielwiese4/students/desengus/dry_crepe_pesto/excels/test')\n",
    "val_df = read_all_files('/speech/dbwork/mul/spielwiese4/students/desengus/dry_crepe_pesto/excels/validation')\n",
    "\n"
   ]
  },
  {
   "cell_type": "code",
   "execution_count": 7,
   "metadata": {},
   "outputs": [
    {
     "name": "stdout",
     "output_type": "stream",
     "text": [
      "Reading data...\n"
     ]
    }
   ],
   "source": [
    "input_lang, output_lang, pairs = readLangs()"
   ]
  },
  {
   "cell_type": "code",
   "execution_count": 8,
   "metadata": {},
   "outputs": [
    {
     "data": {
      "text/plain": [
       "{0: 'SOS',\n",
       " 1: 'EOS',\n",
       " 2: '0',\n",
       " 3: 'C0',\n",
       " 4: 'C0#',\n",
       " 5: 'D0',\n",
       " 6: 'D0#',\n",
       " 7: 'E0',\n",
       " 8: 'F0',\n",
       " 9: 'F0#',\n",
       " 10: 'G0',\n",
       " 11: 'G0#',\n",
       " 12: 'A0',\n",
       " 13: 'A0#',\n",
       " 14: 'B0',\n",
       " 15: 'C1',\n",
       " 16: 'C1#',\n",
       " 17: 'D1',\n",
       " 18: 'D1#',\n",
       " 19: 'E1',\n",
       " 20: 'F1',\n",
       " 21: 'F1#',\n",
       " 22: 'G1',\n",
       " 23: 'G1#',\n",
       " 24: 'A1',\n",
       " 25: 'A1#',\n",
       " 26: 'B1',\n",
       " 27: 'C2',\n",
       " 28: 'C2#',\n",
       " 29: 'D2',\n",
       " 30: 'D2#',\n",
       " 31: 'E2',\n",
       " 32: 'F2',\n",
       " 33: 'F2#',\n",
       " 34: 'G2',\n",
       " 35: 'G2#',\n",
       " 36: 'A2',\n",
       " 37: 'A2#',\n",
       " 38: 'B2',\n",
       " 39: 'C3',\n",
       " 40: 'C3#',\n",
       " 41: 'D3',\n",
       " 42: 'D3#',\n",
       " 43: 'E3',\n",
       " 44: 'F3',\n",
       " 45: 'F3#',\n",
       " 46: 'G3',\n",
       " 47: 'G3#',\n",
       " 48: 'A3',\n",
       " 49: 'A3#',\n",
       " 50: 'B3',\n",
       " 51: 'C4',\n",
       " 52: 'C4#',\n",
       " 53: 'D4',\n",
       " 54: 'D4#',\n",
       " 55: 'E4',\n",
       " 56: 'F4',\n",
       " 57: 'F4#',\n",
       " 58: 'G4',\n",
       " 59: 'G4#',\n",
       " 60: 'A4',\n",
       " 61: 'A4#',\n",
       " 62: 'B4',\n",
       " 63: 'C5',\n",
       " 64: 'C5#',\n",
       " 65: 'D5',\n",
       " 66: 'D5#',\n",
       " 67: 'E5',\n",
       " 68: 'F5',\n",
       " 69: 'F5#',\n",
       " 70: 'G5',\n",
       " 71: 'G5#',\n",
       " 72: 'A5',\n",
       " 73: 'A5#',\n",
       " 74: 'B5',\n",
       " 75: 'C6',\n",
       " 76: 'C6#',\n",
       " 77: 'D6',\n",
       " 78: 'D6#',\n",
       " 79: 'E6',\n",
       " 80: 'F6',\n",
       " 81: 'F6#',\n",
       " 82: 'G6',\n",
       " 83: 'G6#',\n",
       " 84: 'A6',\n",
       " 85: 'A6#',\n",
       " 86: 'B6',\n",
       " 87: 'C7',\n",
       " 88: 'C7#',\n",
       " 89: 'D7',\n",
       " 90: 'D7#',\n",
       " 91: 'E7',\n",
       " 92: 'F7',\n",
       " 93: 'F7#',\n",
       " 94: 'G7',\n",
       " 95: 'G7#',\n",
       " 96: 'A7',\n",
       " 97: 'A7#',\n",
       " 98: 'B7',\n",
       " 99: 'C8',\n",
       " 100: 'C8#',\n",
       " 101: 'D8',\n",
       " 102: 'D8#',\n",
       " 103: 'E8',\n",
       " 104: 'F8',\n",
       " 105: 'F8#',\n",
       " 106: 'G8',\n",
       " 107: 'G8#',\n",
       " 108: 'A8',\n",
       " 109: 'A8#',\n",
       " 110: 'B8'}"
      ]
     },
     "execution_count": 8,
     "metadata": {},
     "output_type": "execute_result"
    }
   ],
   "source": [
    "output_lang.index2word"
   ]
  },
  {
   "cell_type": "code",
   "execution_count": 9,
   "metadata": {},
   "outputs": [
    {
     "data": {
      "text/plain": [
       "['see time. You',\n",
       " 'E1 E1 E1 E1 F1 F1 E1 E1 E1 E1 E1 F1 F1 F1 F1 F1 F1 F1 F1 F1 F1 F1 F1 F1 F1 F1 F1 F1 F1 F1 F1 F1 F1 F1 F1 F1 F1 F1 F1# G1 F1 F1 F1 F1 F1 F1# F1 F1 F1 F1# F1 F1 F1 F1 F1 E1 E1 F1 F1 F1 F1 F1 F1 F1 F1 F1 F1 F1 F1 F1 F1 F1 E1 F1# F1 E1 F1 E1 F1 F1 F1 F1 F1 F1 F1 F1 F1 F1 F1 F1 F1 F1 F1 F1# A1# F1# F1 F1 F1 F1 F1 E1 F1 F1 A1 F1# E1 E1 E1 E1 E1 E1 F1 F1 E1 E1 E1 E1 E1 F1 F1 F1 F1 F1 F1 F1 F1 F1 F1 F1 F1 F1 F1 F1 F1 F1 F1 F1 F1 F1 F1 F1 F1 F1 F1 F1 F1 F1 F1 F1 F1 F1 F1 F1 F1 F1 B1 B1 B1 A1 A1 A1 A1 G1# F1# F1# F1 F1 F1 F1 F1 F1 F1 F1 F1 F1# F1 A1# G1# E1 A1# F1# F1 G1# G1# F1# F1 F1 F1 F1 F1 F1 F1 F1 F1 F1 F1 F1 F1 F1']"
      ]
     },
     "execution_count": 9,
     "metadata": {},
     "output_type": "execute_result"
    }
   ],
   "source": [
    "random.choice(pairs)"
   ]
  },
  {
   "cell_type": "code",
   "execution_count": 10,
   "metadata": {},
   "outputs": [
    {
     "data": {
      "text/plain": [
       "111"
      ]
     },
     "execution_count": 10,
     "metadata": {},
     "output_type": "execute_result"
    }
   ],
   "source": [
    "output_lang.n_words"
   ]
  },
  {
   "cell_type": "code",
   "execution_count": 11,
   "metadata": {},
   "outputs": [],
   "source": [
    "MAX_LENGTH = 512"
   ]
  },
  {
   "cell_type": "code",
   "execution_count": 12,
   "metadata": {},
   "outputs": [],
   "source": [
    "class EncoderRNN(nn.Module):\n",
    "    def __init__(self, input_size, hidden_size, dropout_p=0.1):\n",
    "        super(EncoderRNN, self).__init__()\n",
    "        self.hidden_size = hidden_size\n",
    "\n",
    "        self.embedding = nn.Embedding(input_size, hidden_size)\n",
    "        self.gru = nn.GRU(hidden_size, hidden_size, batch_first=True)\n",
    "        self.dropout = nn.Dropout(dropout_p)\n",
    "\n",
    "    def forward(self, input):\n",
    "        embedded = self.dropout(self.embedding(input))\n",
    "        output, hidden = self.gru(embedded)\n",
    "        return output, hidden"
   ]
  },
  {
   "cell_type": "code",
   "execution_count": 13,
   "metadata": {},
   "outputs": [],
   "source": [
    "class DecoderRNN(nn.Module):\n",
    "    def __init__(self, hidden_size, output_size):\n",
    "        super(DecoderRNN, self).__init__()\n",
    "        self.embedding = nn.Embedding(output_size, hidden_size)\n",
    "        self.gru = nn.GRU(hidden_size, hidden_size, batch_first=True)\n",
    "        self.out = nn.Linear(hidden_size, output_size)\n",
    "\n",
    "    def forward(self, encoder_outputs, encoder_hidden, target_tensor=None):\n",
    "        batch_size = encoder_outputs.size(0)\n",
    "        decoder_input = torch.empty(batch_size, 1, dtype=torch.long, device=device).fill_(SOS_token)\n",
    "        decoder_hidden = encoder_hidden\n",
    "        decoder_outputs = []\n",
    "\n",
    "        for i in range(MAX_LENGTH):\n",
    "            decoder_output, decoder_hidden  = self.forward_step(decoder_input, decoder_hidden)\n",
    "            decoder_outputs.append(decoder_output)\n",
    "\n",
    "            if target_tensor is not None:\n",
    "                # Teacher forcing: Feed the target as the next input\n",
    "                decoder_input = target_tensor[:, i].unsqueeze(1) # Teacher forcing\n",
    "            else:\n",
    "                # Without teacher forcing: use its own predictions as the next input\n",
    "                _, topi = decoder_output.topk(1)\n",
    "                decoder_input = topi.squeeze(-1).detach()  # detach from history as input\n",
    "\n",
    "        decoder_outputs = torch.cat(decoder_outputs, dim=1)\n",
    "        decoder_outputs = F.log_softmax(decoder_outputs, dim=-1)\n",
    "        return decoder_outputs, decoder_hidden, None # We return `None` for consistency in the training loop\n",
    "\n",
    "    def forward_step(self, input, hidden):\n",
    "        output = self.embedding(input)\n",
    "        output = F.relu(output)\n",
    "        output, hidden = self.gru(output, hidden)\n",
    "        output = self.out(output)\n",
    "        return output, hidden"
   ]
  },
  {
   "cell_type": "code",
   "execution_count": 14,
   "metadata": {},
   "outputs": [],
   "source": [
    "class BahdanauAttention(nn.Module):\n",
    "    def __init__(self, hidden_size):\n",
    "        super(BahdanauAttention, self).__init__()\n",
    "        self.Wa = nn.Linear(hidden_size, hidden_size)\n",
    "        self.Ua = nn.Linear(hidden_size, hidden_size)\n",
    "        self.Va = nn.Linear(hidden_size, 1)\n",
    "\n",
    "    def forward(self, query, keys):\n",
    "        scores = self.Va(torch.tanh(self.Wa(query) + self.Ua(keys)))\n",
    "        scores = scores.squeeze(2).unsqueeze(1)\n",
    "\n",
    "        weights = F.softmax(scores, dim=-1)\n",
    "        context = torch.bmm(weights, keys)\n",
    "\n",
    "        return context, weights\n",
    "\n",
    "class AttnDecoderRNN(nn.Module):\n",
    "    def __init__(self, hidden_size, output_size, dropout_p=0.1):\n",
    "        super(AttnDecoderRNN, self).__init__()\n",
    "        self.embedding = nn.Embedding(output_size, hidden_size)\n",
    "        self.attention = BahdanauAttention(hidden_size)\n",
    "        self.gru = nn.GRU(2 * hidden_size, hidden_size, batch_first=True)\n",
    "        self.out = nn.Linear(hidden_size, output_size)\n",
    "        self.dropout = nn.Dropout(dropout_p)\n",
    "\n",
    "    def forward(self, encoder_outputs, encoder_hidden, target_tensor=None):\n",
    "        batch_size = encoder_outputs.size(0)\n",
    "        decoder_input = torch.empty(batch_size, 1, dtype=torch.long, device=device).fill_(SOS_token)\n",
    "        decoder_hidden = encoder_hidden\n",
    "        decoder_outputs = []\n",
    "        attentions = []\n",
    "\n",
    "        for i in range(MAX_LENGTH):\n",
    "            decoder_output, decoder_hidden, attn_weights = self.forward_step(\n",
    "                decoder_input, decoder_hidden, encoder_outputs\n",
    "            )\n",
    "            decoder_outputs.append(decoder_output)\n",
    "            attentions.append(attn_weights)\n",
    "\n",
    "            if target_tensor is not None:\n",
    "                # Teacher forcing: Feed the target as the next input\n",
    "                decoder_input = target_tensor[:, i].unsqueeze(1) # Teacher forcing\n",
    "            else:\n",
    "                # Without teacher forcing: use its own predictions as the next input\n",
    "                _, topi = decoder_output.topk(1)\n",
    "                decoder_input = topi.squeeze(-1).detach()  # detach from history as input\n",
    "\n",
    "        decoder_outputs = torch.cat(decoder_outputs, dim=1)\n",
    "        decoder_outputs = F.log_softmax(decoder_outputs, dim=-1)\n",
    "        attentions = torch.cat(attentions, dim=1)\n",
    "\n",
    "        return decoder_outputs, decoder_hidden, attentions\n",
    "\n",
    "\n",
    "    def forward_step(self, input, hidden, encoder_outputs):\n",
    "        embedded =  self.dropout(self.embedding(input))\n",
    "\n",
    "        query = hidden.permute(1, 0, 2)\n",
    "        context, attn_weights = self.attention(query, encoder_outputs)\n",
    "        input_gru = torch.cat((embedded, context), dim=2)\n",
    "\n",
    "        output, hidden = self.gru(input_gru, hidden)\n",
    "        output = self.out(output)\n",
    "\n",
    "        return output, hidden, attn_weights"
   ]
  },
  {
   "cell_type": "code",
   "execution_count": 15,
   "metadata": {},
   "outputs": [],
   "source": [
    "def indexesFromSentence(lang, sentence):\n",
    "    # print(lang.name)\n",
    "    if lang.name == 'input':\n",
    "        return [lang.word2index[str.lower(word)] for word in sentence.split(' ')]\n",
    "    else:\n",
    "        return [lang.word2index[word] for word in sentence.split(' ')]\n",
    "\n",
    "def tensorFromSentence(lang, sentence):\n",
    "    indexes = indexesFromSentence(lang, sentence)\n",
    "    indexes.append(EOS_token)\n",
    "    return torch.tensor(indexes, dtype=torch.long, device=device).view(1, -1)\n",
    "\n",
    "def tensorsFromPair(pair):\n",
    "    input_tensor = tensorFromSentence(input_lang, pair[0])\n",
    "    target_tensor = tensorFromSentence(output_lang, pair[1])\n",
    "    return (input_tensor, target_tensor)\n",
    "\n",
    "def get_dataloader(batch_size):\n",
    "    input_lang, output_lang, pairs = readLangs()\n",
    "\n",
    "    n = len(pairs)\n",
    "    input_ids = np.zeros((n, MAX_LENGTH), dtype=np.int32)\n",
    "    target_ids = np.zeros((n, MAX_LENGTH), dtype=np.int32)\n",
    "\n",
    "    for idx, (inp, tgt) in enumerate(pairs):\n",
    "        inp_ids = indexesFromSentence(input_lang, inp)\n",
    "        tgt_ids = indexesFromSentence(output_lang, tgt)\n",
    "        inp_ids.append(EOS_token)\n",
    "        tgt_ids.append(EOS_token)\n",
    "        input_ids[idx, :len(inp_ids)] = inp_ids\n",
    "        target_ids[idx, :len(tgt_ids)] = tgt_ids\n",
    "\n",
    "    train_data = TensorDataset(torch.LongTensor(input_ids).to(device),\n",
    "                               torch.LongTensor(target_ids).to(device))\n",
    "\n",
    "    train_sampler = RandomSampler(train_data)\n",
    "    train_dataloader = DataLoader(train_data, sampler=train_sampler, batch_size=batch_size)\n",
    "    return input_lang, output_lang, train_dataloader"
   ]
  },
  {
   "cell_type": "code",
   "execution_count": 16,
   "metadata": {},
   "outputs": [],
   "source": [
    "def train_epoch(dataloader, encoder, decoder, encoder_optimizer,\n",
    "          decoder_optimizer, criterion):\n",
    "\n",
    "    total_loss = 0\n",
    "    i = 0\n",
    "    for data in dataloader:\n",
    "        i = i+1\n",
    "        print(i)\n",
    "        input_tensor, target_tensor = data\n",
    "#        print(type(input_tensor))\n",
    "\n",
    "        encoder_optimizer.zero_grad()\n",
    "        decoder_optimizer.zero_grad()\n",
    "\n",
    "        encoder_outputs, encoder_hidden = encoder(input_tensor)\n",
    "#        print(encoder_outputs.shape)\n",
    "#        print(encoder_hidden.shape)\n",
    "        decoder_outputs, _, _ = decoder(encoder_outputs, encoder_hidden, target_tensor)\n",
    "\n",
    "        loss = criterion(\n",
    "            decoder_outputs.view(-1, decoder_outputs.size(-1)),\n",
    "            target_tensor.view(-1)\n",
    "        )\n",
    "        loss.backward()\n",
    "\n",
    "        encoder_optimizer.step()\n",
    "        decoder_optimizer.step()\n",
    "\n",
    "        total_loss += loss.item()\n",
    "\n",
    "    return total_loss / len(dataloader)"
   ]
  },
  {
   "cell_type": "code",
   "execution_count": 17,
   "metadata": {},
   "outputs": [],
   "source": [
    "import time\n",
    "import math\n",
    "\n",
    "def asMinutes(s):\n",
    "    m = math.floor(s / 60)\n",
    "    s -= m * 60\n",
    "    return '%dm %ds' % (m, s)\n",
    "\n",
    "def timeSince(since, percent):\n",
    "    now = time.time()\n",
    "    s = now - since\n",
    "    es = s / (percent)\n",
    "    rs = es - s\n",
    "    return '%s (- %s)' % (asMinutes(s), asMinutes(rs))"
   ]
  },
  {
   "cell_type": "code",
   "execution_count": 18,
   "metadata": {},
   "outputs": [],
   "source": [
    "def train(train_dataloader, encoder, decoder, n_epochs, learning_rate=0.001,\n",
    "               print_every=1, plot_every=100):\n",
    "    start = time.time()\n",
    "    plot_losses = []\n",
    "    print_loss_total = 0  # Reset every print_every\n",
    "    plot_loss_total = 0  # Reset every plot_every\n",
    "\n",
    "    encoder_optimizer = optim.Adam(encoder.parameters(), lr=learning_rate)\n",
    "    decoder_optimizer = optim.Adam(decoder.parameters(), lr=learning_rate)\n",
    "    criterion = nn.NLLLoss()\n",
    "\n",
    "    for epoch in range(1, n_epochs + 1):\n",
    "        loss = train_epoch(train_dataloader, encoder, decoder, encoder_optimizer, decoder_optimizer, criterion)\n",
    "        print_loss_total += loss\n",
    "        plot_loss_total += loss\n",
    "\n",
    "        if epoch % print_every == 0:\n",
    "            print_loss_avg = print_loss_total / print_every\n",
    "            print_loss_total = 0\n",
    "            print('%s (%d %d%%) %.4f' % (timeSince(start, epoch / n_epochs),\n",
    "                                        epoch, epoch / n_epochs * 100, print_loss_avg))\n",
    "\n",
    "        if epoch % plot_every == 0:\n",
    "            plot_loss_avg = plot_loss_total / plot_every\n",
    "            plot_losses.append(plot_loss_avg)\n",
    "            plot_loss_total = 0\n",
    "\n"
   ]
  },
  {
   "cell_type": "code",
   "execution_count": 19,
   "metadata": {},
   "outputs": [
    {
     "ename": "NameError",
     "evalue": "name 'train_dataloader' is not defined",
     "output_type": "error",
     "traceback": [
      "\u001b[0;31m---------------------------------------------------------------------------\u001b[0m",
      "\u001b[0;31mNameError\u001b[0m                                 Traceback (most recent call last)",
      "\u001b[1;32m/speech/dbwork/mul/spielwiese4/students/desengus/codes/base_ipynb/pytorch_base_model_translate_music.ipynb Cell 19\u001b[0m line \u001b[0;36m1\n\u001b[0;32m----> <a href='vscode-notebook-cell://ssh-remote%2Bdestc0strapp15/speech/dbwork/mul/spielwiese4/students/desengus/codes/base_ipynb/pytorch_base_model_translate_music.ipynb#X24sdnNjb2RlLXJlbW90ZQ%3D%3D?line=0'>1</a>\u001b[0m train_dataloader\u001b[39m.\u001b[39mbatch_size\n",
      "\u001b[0;31mNameError\u001b[0m: name 'train_dataloader' is not defined"
     ]
    }
   ],
   "source": [
    "train_dataloader.batch_size"
   ]
  },
  {
   "cell_type": "code",
   "execution_count": null,
   "metadata": {},
   "outputs": [
    {
     "data": {
      "text/plain": [
       "(8660, 9)"
      ]
     },
     "execution_count": 343,
     "metadata": {},
     "output_type": "execute_result"
    }
   ],
   "source": [
    "train_df.shape"
   ]
  },
  {
   "cell_type": "code",
   "execution_count": null,
   "metadata": {},
   "outputs": [
    {
     "name": "stdout",
     "output_type": "stream",
     "text": [
      "Reading data...\n"
     ]
    },
    {
     "ename": "RuntimeError",
     "evalue": "CUDA error: CUDA-capable device(s) is/are busy or unavailable\nCUDA kernel errors might be asynchronously reported at some other API call, so the stacktrace below might be incorrect.\nFor debugging consider passing CUDA_LAUNCH_BLOCKING=1.\nCompile with `TORCH_USE_CUDA_DSA` to enable device-side assertions.\n",
     "output_type": "error",
     "traceback": [
      "\u001b[0;31m---------------------------------------------------------------------------\u001b[0m",
      "\u001b[0;31mRuntimeError\u001b[0m                              Traceback (most recent call last)",
      "\u001b[1;32m/speech/dbwork/mul/spielwiese4/students/desengus/codes/base_ipynb/pytorch_base_model_translate_music.ipynb Cell 21\u001b[0m line \u001b[0;36m4\n\u001b[1;32m      <a href='vscode-notebook-cell://ssh-remote%2Bdestc0strapp15/speech/dbwork/mul/spielwiese4/students/desengus/codes/base_ipynb/pytorch_base_model_translate_music.ipynb#X45sdnNjb2RlLXJlbW90ZQ%3D%3D?line=0'>1</a>\u001b[0m hidden_size \u001b[39m=\u001b[39m \u001b[39m128\u001b[39m\n\u001b[1;32m      <a href='vscode-notebook-cell://ssh-remote%2Bdestc0strapp15/speech/dbwork/mul/spielwiese4/students/desengus/codes/base_ipynb/pytorch_base_model_translate_music.ipynb#X45sdnNjb2RlLXJlbW90ZQ%3D%3D?line=1'>2</a>\u001b[0m batch_size \u001b[39m=\u001b[39m \u001b[39m32\u001b[39m\n\u001b[0;32m----> <a href='vscode-notebook-cell://ssh-remote%2Bdestc0strapp15/speech/dbwork/mul/spielwiese4/students/desengus/codes/base_ipynb/pytorch_base_model_translate_music.ipynb#X45sdnNjb2RlLXJlbW90ZQ%3D%3D?line=3'>4</a>\u001b[0m input_lang, output_lang, train_dataloader \u001b[39m=\u001b[39m get_dataloader(batch_size)\n\u001b[1;32m      <a href='vscode-notebook-cell://ssh-remote%2Bdestc0strapp15/speech/dbwork/mul/spielwiese4/students/desengus/codes/base_ipynb/pytorch_base_model_translate_music.ipynb#X45sdnNjb2RlLXJlbW90ZQ%3D%3D?line=5'>6</a>\u001b[0m encoder \u001b[39m=\u001b[39m EncoderRNN(input_lang\u001b[39m.\u001b[39mn_words, hidden_size)\u001b[39m.\u001b[39mto(device)\n\u001b[1;32m      <a href='vscode-notebook-cell://ssh-remote%2Bdestc0strapp15/speech/dbwork/mul/spielwiese4/students/desengus/codes/base_ipynb/pytorch_base_model_translate_music.ipynb#X45sdnNjb2RlLXJlbW90ZQ%3D%3D?line=6'>7</a>\u001b[0m decoder \u001b[39m=\u001b[39m AttnDecoderRNN(hidden_size, output_lang\u001b[39m.\u001b[39mn_words)\u001b[39m.\u001b[39mto(device)\n",
      "\u001b[1;32m/speech/dbwork/mul/spielwiese4/students/desengus/codes/base_ipynb/pytorch_base_model_translate_music.ipynb Cell 21\u001b[0m line \u001b[0;36m3\n\u001b[1;32m     <a href='vscode-notebook-cell://ssh-remote%2Bdestc0strapp15/speech/dbwork/mul/spielwiese4/students/desengus/codes/base_ipynb/pytorch_base_model_translate_music.ipynb#X45sdnNjb2RlLXJlbW90ZQ%3D%3D?line=29'>30</a>\u001b[0m     input_ids[idx, :\u001b[39mlen\u001b[39m(inp_ids)] \u001b[39m=\u001b[39m inp_ids\n\u001b[1;32m     <a href='vscode-notebook-cell://ssh-remote%2Bdestc0strapp15/speech/dbwork/mul/spielwiese4/students/desengus/codes/base_ipynb/pytorch_base_model_translate_music.ipynb#X45sdnNjb2RlLXJlbW90ZQ%3D%3D?line=30'>31</a>\u001b[0m     target_ids[idx, :\u001b[39mlen\u001b[39m(tgt_ids)] \u001b[39m=\u001b[39m tgt_ids\n\u001b[0;32m---> <a href='vscode-notebook-cell://ssh-remote%2Bdestc0strapp15/speech/dbwork/mul/spielwiese4/students/desengus/codes/base_ipynb/pytorch_base_model_translate_music.ipynb#X45sdnNjb2RlLXJlbW90ZQ%3D%3D?line=32'>33</a>\u001b[0m train_data \u001b[39m=\u001b[39m TensorDataset(torch\u001b[39m.\u001b[39;49mLongTensor(input_ids)\u001b[39m.\u001b[39;49mto(device),\n\u001b[1;32m     <a href='vscode-notebook-cell://ssh-remote%2Bdestc0strapp15/speech/dbwork/mul/spielwiese4/students/desengus/codes/base_ipynb/pytorch_base_model_translate_music.ipynb#X45sdnNjb2RlLXJlbW90ZQ%3D%3D?line=33'>34</a>\u001b[0m                            torch\u001b[39m.\u001b[39mLongTensor(target_ids)\u001b[39m.\u001b[39mto(device))\n\u001b[1;32m     <a href='vscode-notebook-cell://ssh-remote%2Bdestc0strapp15/speech/dbwork/mul/spielwiese4/students/desengus/codes/base_ipynb/pytorch_base_model_translate_music.ipynb#X45sdnNjb2RlLXJlbW90ZQ%3D%3D?line=35'>36</a>\u001b[0m train_sampler \u001b[39m=\u001b[39m RandomSampler(train_data)\n\u001b[1;32m     <a href='vscode-notebook-cell://ssh-remote%2Bdestc0strapp15/speech/dbwork/mul/spielwiese4/students/desengus/codes/base_ipynb/pytorch_base_model_translate_music.ipynb#X45sdnNjb2RlLXJlbW90ZQ%3D%3D?line=36'>37</a>\u001b[0m train_dataloader \u001b[39m=\u001b[39m DataLoader(train_data, sampler\u001b[39m=\u001b[39mtrain_sampler, batch_size\u001b[39m=\u001b[39mbatch_size)\n",
      "\u001b[0;31mRuntimeError\u001b[0m: CUDA error: CUDA-capable device(s) is/are busy or unavailable\nCUDA kernel errors might be asynchronously reported at some other API call, so the stacktrace below might be incorrect.\nFor debugging consider passing CUDA_LAUNCH_BLOCKING=1.\nCompile with `TORCH_USE_CUDA_DSA` to enable device-side assertions.\n"
     ]
    }
   ],
   "source": [
    "hidden_size = 128\n",
    "batch_size = 32\n",
    "\n",
    "input_lang, output_lang, train_dataloader = get_dataloader(batch_size)\n",
    "\n",
    "encoder = EncoderRNN(input_lang.n_words, hidden_size).to(device)\n",
    "decoder = AttnDecoderRNN(hidden_size, output_lang.n_words).to(device)\n",
    "\n",
    "train(train_dataloader, encoder, decoder, 5, print_every=1, plot_every=5)"
   ]
  },
  {
   "cell_type": "code",
   "execution_count": 21,
   "metadata": {},
   "outputs": [],
   "source": [
    "hidden_size = 128\n",
    "batch_size = 32\n",
    "encoder = EncoderRNN(input_lang.n_words, hidden_size).to(device)\n",
    "decoder = AttnDecoderRNN(hidden_size, output_lang.n_words).to(device)\n"
   ]
  },
  {
   "cell_type": "code",
   "execution_count": 25,
   "metadata": {},
   "outputs": [
    {
     "data": {
      "text/plain": [
       "<All keys matched successfully>"
      ]
     },
     "execution_count": 25,
     "metadata": {},
     "output_type": "execute_result"
    }
   ],
   "source": [
    "encoder.load_state_dict(torch.load('/speech/dbwork/mul/spielwiese4/students/desengus/encoder_basic.pt'))\n",
    "decoder.load_state_dict(torch.load('/speech/dbwork/mul/spielwiese4/students/desengus/decoder_basic.pt'))\n"
   ]
  },
  {
   "cell_type": "code",
   "execution_count": 26,
   "metadata": {},
   "outputs": [],
   "source": [
    "def evaluate(encoder, decoder, sentence, input_lang, output_lang):\n",
    "    with torch.no_grad():\n",
    "        input_tensor = tensorFromSentence(input_lang, sentence)\n",
    "\n",
    "        encoder_outputs, encoder_hidden = encoder(input_tensor)\n",
    "        decoder_outputs, decoder_hidden, decoder_attn = decoder(encoder_outputs, encoder_hidden)\n",
    "\n",
    "        _, topi = decoder_outputs.topk(1)\n",
    "        decoded_ids = topi.squeeze()\n",
    "\n",
    "        decoded_words = []\n",
    "        for idx in decoded_ids:\n",
    "            if idx.item() == EOS_token:\n",
    "                decoded_words.append('<EOS>')\n",
    "                break\n",
    "            decoded_words.append(output_lang.index2word[idx.item()])\n",
    "    return decoded_words, decoder_attn"
   ]
  },
  {
   "cell_type": "code",
   "execution_count": 31,
   "metadata": {},
   "outputs": [],
   "source": [
    "words, attn = evaluate(encoder,decoder,\"Hey, its me. I love to sing a song for\",input_lang, output_lang)"
   ]
  },
  {
   "cell_type": "code",
   "execution_count": 34,
   "metadata": {},
   "outputs": [
    {
     "data": {
      "text/plain": [
       "512"
      ]
     },
     "execution_count": 34,
     "metadata": {},
     "output_type": "execute_result"
    }
   ],
   "source": [
    "len(words)"
   ]
  },
  {
   "cell_type": "code",
   "execution_count": 39,
   "metadata": {},
   "outputs": [
    {
     "data": {
      "text/plain": [
       "Counter({'SOS': 512})"
      ]
     },
     "execution_count": 39,
     "metadata": {},
     "output_type": "execute_result"
    }
   ],
   "source": [
    "from collections import Counter\n",
    "\n",
    "Counter(words)"
   ]
  },
  {
   "cell_type": "code",
   "execution_count": 42,
   "metadata": {},
   "outputs": [],
   "source": [
    "df = pd.concat([train_df,test_df,val_df], ignore_index=True)"
   ]
  },
  {
   "cell_type": "code",
   "execution_count": 43,
   "metadata": {},
   "outputs": [
    {
     "data": {
      "text/plain": [
       "(10309, 9)"
      ]
     },
     "execution_count": 43,
     "metadata": {},
     "output_type": "execute_result"
    }
   ],
   "source": [
    "df.shape"
   ]
  },
  {
   "cell_type": "code",
   "execution_count": null,
   "metadata": {},
   "outputs": [],
   "source": []
  }
 ],
 "metadata": {
  "kernelspec": {
   "display_name": "dev",
   "language": "python",
   "name": "python3"
  },
  "language_info": {
   "codemirror_mode": {
    "name": "ipython",
    "version": 3
   },
   "file_extension": ".py",
   "mimetype": "text/x-python",
   "name": "python",
   "nbconvert_exporter": "python",
   "pygments_lexer": "ipython3",
   "version": "3.10.13"
  }
 },
 "nbformat": 4,
 "nbformat_minor": 2
}
