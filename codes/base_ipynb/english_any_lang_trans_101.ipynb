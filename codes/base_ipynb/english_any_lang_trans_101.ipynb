{
 "cells": [
  {
   "cell_type": "code",
   "execution_count": 2,
   "metadata": {},
   "outputs": [
    {
     "name": "stderr",
     "output_type": "stream",
     "text": [
      "/speech/dbwork/mul/spielwiese4/students/desengus/miniconda3/envs/dev/lib/python3.10/site-packages/tqdm/auto.py:21: TqdmWarning: IProgress not found. Please update jupyter and ipywidgets. See https://ipywidgets.readthedocs.io/en/stable/user_install.html\n",
      "  from .autonotebook import tqdm as notebook_tqdm\n"
     ]
    }
   ],
   "source": [
    "import torch\n",
    "import torch.nn as nn\n",
    "from transformers import BertTokenizer, BertModel\n",
    "from torch.nn.utils.rnn import pad_sequence\n",
    "import numpy as np"
   ]
  },
  {
   "cell_type": "code",
   "execution_count": 3,
   "metadata": {},
   "outputs": [],
   "source": [
    "class BertTranslator(nn.Module):\n",
    "    def __init__(self, bert_model, target_vocab_size):\n",
    "        super(BertTranslator, self).__init__()\n",
    "        self.bert = BertModel.from_pretrained(bert_model)\n",
    "        self.decoder = nn.Linear(self.bert.config.hidden_size, target_vocab_size)\n",
    "\n",
    "    def forward(self, input_ids, attention_mask):\n",
    "        # BERT Encoder\n",
    "        outputs = self.bert(input_ids=input_ids, attention_mask=attention_mask)\n",
    "        #print(outputs)\n",
    "\n",
    "        # Only use the [CLS] token representation as the context vector\n",
    "        context_vector = outputs.last_hidden_state[:, 0, :]\n",
    "        #print(context_vector.shape)\n",
    "\n",
    "        # Decoder\n",
    "        output = self.decoder(context_vector)\n",
    "\n",
    "        return output"
   ]
  },
  {
   "cell_type": "code",
   "execution_count": 4,
   "metadata": {},
   "outputs": [],
   "source": [
    "sentences = [\"Translate this sentence.\", \"How are you?\", \"BERT is powerful.\"]\n",
    "translations = [\"g1, g4, h4, j5\", \"t5,k5\", \"g1,g4,h6\"]\n",
    "\n",
    "# Create a vocabulary and map each unique token to an index\n",
    "all_tokens = set([token for translation in translations for token in translation.split(',')])\n",
    "vocab = {token: idx for idx, token in enumerate(all_tokens)}\n",
    "\n",
    "# Convert translations to numerical indices and pad sequences\n",
    "target_ids = [torch.tensor([vocab[token] for token in translation.split(',')], dtype=torch.long) for translation in translations]\n",
    "target_ids_padded = pad_sequence(target_ids, batch_first=True, padding_value=-1)\n",
    "\n",
    "# Find the maximum length in the batch\n",
    "max_len = max(len(ids) for ids in target_ids)\n",
    "\n",
    "# Pad sequences to the maximum length\n",
    "padded_target_ids = torch.stack([torch.cat([ids, torch.full((max_len - len(ids),), -1, dtype=torch.long)]) for ids in target_ids])\n",
    "\n",
    "# Load BERT tokenizer\n",
    "tokenizer = BertTokenizer.from_pretrained('bert-base-uncased')\n",
    "\n",
    "# Tokenize and convert to PyTorch tensors\n",
    "input_ids = tokenizer(sentences, return_tensors='pt', padding=True, truncation=True)['input_ids']\n",
    "\n",
    "# Create the translation model\n",
    "target_vocab_size = len(vocab)\n",
    "translator_model = BertTranslator('bert-base-uncased', target_vocab_size)\n",
    "\n",
    "# Loss and optimizer\n",
    "criterion = nn.CrossEntropyLoss(ignore_index=-1)  # Ignore padding value during loss calculation\n",
    "optimizer = torch.optim.Adam(translator_model.parameters(), lr=0.001)\n"
   ]
  },
  {
   "cell_type": "code",
   "execution_count": 5,
   "metadata": {},
   "outputs": [],
   "source": [
    "def computeOneHotEncoding(trans):\n",
    "    one_hot_encoding = []\n",
    "    for translation in translations:\n",
    "        vector = np.zeros(len(all_tokens))\n",
    "        for token in translation.split(','):\n",
    "            index = vocab[token]\n",
    "            vector[index] = 1\n",
    "        one_hot_encoding.append(vector)\n",
    "\n",
    "    # Convert the list to a NumPy array\n",
    "    one_hot_encoding_array = torch.tensor(np.array(one_hot_encoding))\n",
    "    return one_hot_encoding_array"
   ]
  },
  {
   "cell_type": "code",
   "execution_count": 6,
   "metadata": {},
   "outputs": [
    {
     "data": {
      "text/plain": [
       "torch.Size([3, 8])"
      ]
     },
     "execution_count": 6,
     "metadata": {},
     "output_type": "execute_result"
    }
   ],
   "source": [
    "output = translator_model(input_ids, attention_mask=input_ids != tokenizer.pad_token_id)\n",
    "output.shape"
   ]
  },
  {
   "cell_type": "code",
   "execution_count": 7,
   "metadata": {},
   "outputs": [
    {
     "name": "stdout",
     "output_type": "stream",
     "text": [
      "Epoch [5/10], Loss: 5.2537\n",
      "Epoch [10/10], Loss: 4.6195\n",
      "Test Output: tensor([[ 0.4607,  1.4016,  1.8252, -0.2963, -2.0317, -0.0842,  0.3523, -2.2040],\n",
      "        [-2.3011, -1.3101, -1.7781, -0.5439,  3.9812, -0.8129, -3.1830,  4.8241],\n",
      "        [ 0.4014,  0.5710,  1.6860,  0.5097, -1.8541,  0.7205, -0.0972, -1.5161]],\n",
      "       grad_fn=<AddmmBackward0>)\n"
     ]
    }
   ],
   "source": [
    "num_epochs = 10  # Adjust as needed\n",
    "for epoch in range(num_epochs):\n",
    "    # Forward pass\n",
    "    output = translator_model(input_ids, attention_mask=input_ids != tokenizer.pad_token_id)\n",
    "\n",
    "    # comput the one hot encoding of the translation\n",
    "    one_hot_encoding_array = computeOneHotEncoding(translations)\n",
    "    \n",
    "\n",
    "    # Compute loss\n",
    "    loss = criterion(output, one_hot_encoding_array)\n",
    "\n",
    "    # Backward and optimize\n",
    "    optimizer.zero_grad()\n",
    "    loss.backward()\n",
    "    optimizer.step()\n",
    "\n",
    "    # Print loss every 100 epochs\n",
    "    if (epoch + 1) % 5 == 0:\n",
    "        print(f'Epoch [{epoch + 1}/{num_epochs}], Loss: {loss.item():.4f}')\n",
    "\n",
    "# Test the model with the same input sentences\n",
    "test_output = translator_model(input_ids, attention_mask=input_ids != tokenizer.pad_token_id)\n",
    "print(\"Test Output:\", test_output)"
   ]
  },
  {
   "cell_type": "code",
   "execution_count": 8,
   "metadata": {},
   "outputs": [
    {
     "name": "stdout",
     "output_type": "stream",
     "text": [
      "g1\n",
      "k5\n",
      "g1\n"
     ]
    }
   ],
   "source": [
    "translations = []\n",
    "vocab_rev = {value: key for key, value in vocab.items()}\n",
    "for row in test_output:\n",
    "    tokens_indices = torch.argmax(row).tolist()\n",
    "    print(vocab_rev[tokens_indices])\n",
    "#    translations.append(','.join(tokens))"
   ]
  },
  {
   "cell_type": "code",
   "execution_count": 9,
   "metadata": {},
   "outputs": [],
   "source": [
    "vocab_rev = {value: key for key, value in vocab.items()}"
   ]
  },
  {
   "cell_type": "code",
   "execution_count": 10,
   "metadata": {},
   "outputs": [
    {
     "data": {
      "text/plain": [
       "{0: ' j5', 1: ' h4', 2: 'g1', 3: 'h6', 4: 't5', 5: 'g4', 6: ' g4', 7: 'k5'}"
      ]
     },
     "execution_count": 10,
     "metadata": {},
     "output_type": "execute_result"
    }
   ],
   "source": [
    "\n",
    "vocab_rev"
   ]
  },
  {
   "cell_type": "code",
   "execution_count": 11,
   "metadata": {},
   "outputs": [
    {
     "name": "stdout",
     "output_type": "stream",
     "text": [
      "Test Output: tensor([[ 0.2222,  0.6848,  2.3058,  0.6187, -2.4861,  0.8842, -0.4293, -1.9598]],\n",
      "       grad_fn=<AddmmBackward0>)\n"
     ]
    }
   ],
   "source": [
    "sentences = [\"this is this is this is\"]\n",
    "\n",
    "# Load BERT tokenizer\n",
    "tokenizer = BertTokenizer.from_pretrained('bert-base-uncased')\n",
    "\n",
    "# Tokenize and convert to PyTorch tensors\n",
    "input_ids = tokenizer(sentences, return_tensors='pt', padding=True, truncation=True)['input_ids']\n",
    "# Test the model with the same input sentences\n",
    "test_output = translator_model(input_ids, attention_mask=input_ids != tokenizer.pad_token_id)\n",
    "print(\"Test Output:\", test_output)"
   ]
  },
  {
   "cell_type": "code",
   "execution_count": 12,
   "metadata": {},
   "outputs": [],
   "source": [
    "num_params = sum(p.numel() for p in translator_model.parameters())"
   ]
  },
  {
   "cell_type": "code",
   "execution_count": 13,
   "metadata": {},
   "outputs": [
    {
     "data": {
      "text/plain": [
       "109488392"
      ]
     },
     "execution_count": 13,
     "metadata": {},
     "output_type": "execute_result"
    }
   ],
   "source": [
    "num_params"
   ]
  },
  {
   "cell_type": "code",
   "execution_count": 14,
   "metadata": {},
   "outputs": [
    {
     "data": {
      "text/plain": [
       "tensor([[ 0.2222,  0.6848,  2.3058,  0.6187, -2.4861,  0.8842, -0.4293, -1.9598]],\n",
       "       grad_fn=<AddmmBackward0>)"
      ]
     },
     "execution_count": 14,
     "metadata": {},
     "output_type": "execute_result"
    }
   ],
   "source": [
    "test_output"
   ]
  },
  {
   "cell_type": "code",
   "execution_count": 15,
   "metadata": {},
   "outputs": [],
   "source": [
    "tune = []\n",
    "for i in np.where(test_output.detach().numpy()[0]>0)[0]:\n",
    "    tune.append(vocab_rev[i])"
   ]
  },
  {
   "cell_type": "code",
   "execution_count": 16,
   "metadata": {},
   "outputs": [
    {
     "data": {
      "text/plain": [
       "[' j5', ' h4', 'g1', 'h6', 'g4']"
      ]
     },
     "execution_count": 16,
     "metadata": {},
     "output_type": "execute_result"
    }
   ],
   "source": [
    "tune"
   ]
  },
  {
   "cell_type": "code",
   "execution_count": null,
   "metadata": {},
   "outputs": [],
   "source": []
  }
 ],
 "metadata": {
  "kernelspec": {
   "display_name": "dev",
   "language": "python",
   "name": "python3"
  },
  "language_info": {
   "codemirror_mode": {
    "name": "ipython",
    "version": 3
   },
   "file_extension": ".py",
   "mimetype": "text/x-python",
   "name": "python",
   "nbconvert_exporter": "python",
   "pygments_lexer": "ipython3",
   "version": "3.10.13"
  }
 },
 "nbformat": 4,
 "nbformat_minor": 2
}
